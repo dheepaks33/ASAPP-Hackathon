{
 "cells": [
  {
   "cell_type": "markdown",
   "metadata": {
    "cell_id": "2dff2bb2-c105-4463-87ff-15c23c839a39",
    "deepnote_cell_height": 82,
    "deepnote_cell_type": "markdown"
   },
   "source": [
    "# Text Based Sentiment Analysis"
   ]
  },
  {
   "cell_type": "markdown",
   "metadata": {
    "cell_id": "00001-827032ec-c28b-4d9f-8eee-d6192aa2ae96",
    "deepnote_cell_height": 82,
    "deepnote_cell_type": "markdown"
   },
   "source": [
    "# IMPORTING NECESSARY MODULES"
   ]
  },
  {
   "cell_type": "code",
   "execution_count": 1,
   "metadata": {
    "_cell_guid": "b1076dfc-b9ad-4769-8c92-a6c4dae69d19",
    "_uuid": "8f2839f25d086af736a60e9eeb907d3b93b6e0e5",
    "cell_id": "00002-36bec11c-eb7b-4df2-90ee-b4217b8e7621",
    "deepnote_cell_height": 166,
    "deepnote_cell_type": "code",
    "deepnote_to_be_reexecuted": false,
    "execution": {
     "iopub.execute_input": "2021-03-13T16:27:39.217519Z",
     "iopub.status.busy": "2021-03-13T16:27:39.216547Z",
     "iopub.status.idle": "2021-03-13T16:27:39.234404Z",
     "shell.execute_reply": "2021-03-13T16:27:39.235238Z"
    },
    "execution_millis": 1816,
    "execution_start": 1659103988456,
    "papermill": {
     "duration": 0.035859,
     "end_time": "2021-03-13T16:27:39.235853",
     "exception": false,
     "start_time": "2021-03-13T16:27:39.199994",
     "status": "completed"
    },
    "source_hash": "ab749f7b",
    "tags": []
   },
   "outputs": [],
   "source": [
    "import numpy as np # For linear algebra\n",
    "import pandas as pd # Data processing, CSV file I/O (e.g. pd.read_csv)\n",
    "import matplotlib.pyplot as plt  # For Visualisation\n",
    "%matplotlib inline\n",
    "import seaborn as sns  # For Visualisation\n",
    "from bs4 import BeautifulSoup  # For Text Parsing\n",
    "from ydata_profiling import ProfileReport  # For generating data report"
   ]
  },
  {
   "cell_type": "markdown",
   "metadata": {
    "cell_id": "00003-c84485ea-471f-4bbc-a9ac-a68e88d210ac",
    "deepnote_cell_height": 82,
    "deepnote_cell_type": "markdown"
   },
   "source": [
    "# IMPORTING DATASET"
   ]
  },
  {
   "cell_type": "code",
   "execution_count": 2,
   "metadata": {
    "cell_id": "00004-e948c7f9-0985-467e-9905-6933a6337c74",
    "deepnote_cell_height": 94,
    "deepnote_cell_type": "code",
    "deepnote_to_be_reexecuted": false,
    "execution": {
     "iopub.execute_input": "2021-03-13T16:27:39.271093Z",
     "iopub.status.busy": "2021-03-13T16:27:39.270285Z",
     "iopub.status.idle": "2021-03-13T16:27:47.294167Z",
     "shell.execute_reply": "2021-03-13T16:27:47.293549Z"
    },
    "execution_millis": 4735,
    "execution_start": 1659103990284,
    "papermill": {
     "duration": 8.043911,
     "end_time": "2021-03-13T16:27:47.294319",
     "exception": false,
     "start_time": "2021-03-13T16:27:39.250408",
     "status": "completed"
    },
    "scrolled": true,
    "source_hash": "d3a41fa3",
    "tags": []
   },
   "outputs": [
    {
     "data": {
      "text/html": [
       "<div>\n",
       "<style scoped>\n",
       "    .dataframe tbody tr th:only-of-type {\n",
       "        vertical-align: middle;\n",
       "    }\n",
       "\n",
       "    .dataframe tbody tr th {\n",
       "        vertical-align: top;\n",
       "    }\n",
       "\n",
       "    .dataframe thead th {\n",
       "        text-align: right;\n",
       "    }\n",
       "</style>\n",
       "<table border=\"1\" class=\"dataframe\">\n",
       "  <thead>\n",
       "    <tr style=\"text-align: right;\">\n",
       "      <th></th>\n",
       "      <th>conversation_id</th>\n",
       "      <th>utterance_id</th>\n",
       "      <th>speaker</th>\n",
       "      <th>text</th>\n",
       "      <th>saliency</th>\n",
       "    </tr>\n",
       "  </thead>\n",
       "  <tbody>\n",
       "    <tr>\n",
       "      <th>0</th>\n",
       "      <td>742555640001</td>\n",
       "      <td>0</td>\n",
       "      <td>agent</td>\n",
       "      <td>May I know your name, please?</td>\n",
       "      <td>NaN</td>\n",
       "    </tr>\n",
       "    <tr>\n",
       "      <th>1</th>\n",
       "      <td>742555640001</td>\n",
       "      <td>1</td>\n",
       "      <td>customer</td>\n",
       "      <td>Uh yes, my name is {full_name:***** ****}.</td>\n",
       "      <td>NaN</td>\n",
       "    </tr>\n",
       "    <tr>\n",
       "      <th>2</th>\n",
       "      <td>742555640001</td>\n",
       "      <td>2</td>\n",
       "      <td>agent</td>\n",
       "      <td>, {first_name:*****}. How's your day going, {f...</td>\n",
       "      <td>NaN</td>\n",
       "    </tr>\n",
       "    <tr>\n",
       "      <th>3</th>\n",
       "      <td>742555640001</td>\n",
       "      <td>3</td>\n",
       "      <td>customer</td>\n",
       "      <td>It's going good. Thank you for asking.</td>\n",
       "      <td>NaN</td>\n",
       "    </tr>\n",
       "    <tr>\n",
       "      <th>4</th>\n",
       "      <td>742555640001</td>\n",
       "      <td>4</td>\n",
       "      <td>agent</td>\n",
       "      <td>That's great. So how can I help you?</td>\n",
       "      <td>NaN</td>\n",
       "    </tr>\n",
       "    <tr>\n",
       "      <th>5</th>\n",
       "      <td>742555640001</td>\n",
       "      <td>5</td>\n",
       "      <td>agent</td>\n",
       "      <td>mhm.</td>\n",
       "      <td>NaN</td>\n",
       "    </tr>\n",
       "    <tr>\n",
       "      <th>6</th>\n",
       "      <td>742555640001</td>\n",
       "      <td>6</td>\n",
       "      <td>customer</td>\n",
       "      <td>Uh yes, sir. I'm a new Raven member and I was ...</td>\n",
       "      <td>Reason for Contact</td>\n",
       "    </tr>\n",
       "    <tr>\n",
       "      <th>7</th>\n",
       "      <td>742555640001</td>\n",
       "      <td>7</td>\n",
       "      <td>agent</td>\n",
       "      <td>mhm.</td>\n",
       "      <td>NaN</td>\n",
       "    </tr>\n",
       "    <tr>\n",
       "      <th>8</th>\n",
       "      <td>742555640001</td>\n",
       "      <td>8</td>\n",
       "      <td>agent</td>\n",
       "      <td>Yes, sir.</td>\n",
       "      <td>NaN</td>\n",
       "    </tr>\n",
       "    <tr>\n",
       "      <th>9</th>\n",
       "      <td>742555640001</td>\n",
       "      <td>9</td>\n",
       "      <td>customer</td>\n",
       "      <td>That has to be canceled by the 23rd. It had a ...</td>\n",
       "      <td>Reason for Contact</td>\n",
       "    </tr>\n",
       "    <tr>\n",
       "      <th>10</th>\n",
       "      <td>742555640001</td>\n",
       "      <td>10</td>\n",
       "      <td>customer</td>\n",
       "      <td>Okay.</td>\n",
       "      <td>NaN</td>\n",
       "    </tr>\n",
       "    <tr>\n",
       "      <th>11</th>\n",
       "      <td>742555640001</td>\n",
       "      <td>11</td>\n",
       "      <td>agent</td>\n",
       "      <td>Okay, let okay, let me just assist you with th...</td>\n",
       "      <td>NaN</td>\n",
       "    </tr>\n",
       "    <tr>\n",
       "      <th>12</th>\n",
       "      <td>742555640001</td>\n",
       "      <td>12</td>\n",
       "      <td>agent</td>\n",
       "      <td>So are you referring for the Spiderman Pack.</td>\n",
       "      <td>Resolution Process</td>\n",
       "    </tr>\n",
       "    <tr>\n",
       "      <th>13</th>\n",
       "      <td>742555640001</td>\n",
       "      <td>13</td>\n",
       "      <td>agent</td>\n",
       "      <td>, Superman, Spiderman and Raven Movie Pack.</td>\n",
       "      <td>Resolution Process</td>\n",
       "    </tr>\n",
       "    <tr>\n",
       "      <th>14</th>\n",
       "      <td>742555640001</td>\n",
       "      <td>14</td>\n",
       "      <td>customer</td>\n",
       "      <td>I get I'm gonna get Superman anyway because I'...</td>\n",
       "      <td>Resolution Process</td>\n",
       "    </tr>\n",
       "  </tbody>\n",
       "</table>\n",
       "</div>"
      ],
      "text/plain": [
       "    conversation_id  utterance_id   speaker  \\\n",
       "0      742555640001             0     agent   \n",
       "1      742555640001             1  customer   \n",
       "2      742555640001             2     agent   \n",
       "3      742555640001             3  customer   \n",
       "4      742555640001             4     agent   \n",
       "5      742555640001             5     agent   \n",
       "6      742555640001             6  customer   \n",
       "7      742555640001             7     agent   \n",
       "8      742555640001             8     agent   \n",
       "9      742555640001             9  customer   \n",
       "10     742555640001            10  customer   \n",
       "11     742555640001            11     agent   \n",
       "12     742555640001            12     agent   \n",
       "13     742555640001            13     agent   \n",
       "14     742555640001            14  customer   \n",
       "\n",
       "                                                 text            saliency  \n",
       "0                       May I know your name, please?                 NaN  \n",
       "1          Uh yes, my name is {full_name:***** ****}.                 NaN  \n",
       "2   , {first_name:*****}. How's your day going, {f...                 NaN  \n",
       "3              It's going good. Thank you for asking.                 NaN  \n",
       "4                That's great. So how can I help you?                 NaN  \n",
       "5                                                mhm.                 NaN  \n",
       "6   Uh yes, sir. I'm a new Raven member and I was ...  Reason for Contact  \n",
       "7                                                mhm.                 NaN  \n",
       "8                                           Yes, sir.                 NaN  \n",
       "9   That has to be canceled by the 23rd. It had a ...  Reason for Contact  \n",
       "10                                              Okay.                 NaN  \n",
       "11  Okay, let okay, let me just assist you with th...                 NaN  \n",
       "12       So are you referring for the Spiderman Pack.  Resolution Process  \n",
       "13        , Superman, Spiderman and Raven Movie Pack.  Resolution Process  \n",
       "14  I get I'm gonna get Superman anyway because I'...  Resolution Process  "
      ]
     },
     "execution_count": 2,
     "metadata": {},
     "output_type": "execute_result"
    }
   ],
   "source": [
    "data = pd.read_csv('./train.csv')\n",
    "data.head(15)"
   ]
  },
  {
   "cell_type": "markdown",
   "metadata": {
    "cell_id": "00005-579dd9fe-55a8-416f-ae98-24ad73508851",
    "deepnote_cell_height": 82,
    "deepnote_cell_type": "markdown"
   },
   "source": [
    "# DATA PREPROCESSING & VISUALISATION"
   ]
  },
  {
   "cell_type": "code",
   "execution_count": 3,
   "metadata": {
    "cell_id": "00006-07c02291-9a86-418b-aee1-1c31b5598dd3",
    "deepnote_cell_height": 76,
    "deepnote_cell_type": "code",
    "deepnote_to_be_reexecuted": false,
    "execution": {
     "iopub.execute_input": "2021-03-13T16:27:47.637700Z",
     "iopub.status.busy": "2021-03-13T16:27:47.324855Z",
     "iopub.status.idle": "2021-03-13T16:27:47.652536Z",
     "shell.execute_reply": "2021-03-13T16:27:47.651955Z"
    },
    "execution_millis": 6,
    "execution_start": 1659103995024,
    "papermill": {
     "duration": 0.34554,
     "end_time": "2021-03-13T16:27:47.652678",
     "exception": false,
     "start_time": "2021-03-13T16:27:47.307138",
     "status": "completed"
    },
    "source_hash": "f6229a6b",
    "tags": []
   },
   "outputs": [
    {
     "data": {
      "text/plain": [
       "conversation_id      0\n",
       "utterance_id         0\n",
       "speaker              0\n",
       "text                 0\n",
       "saliency           352\n",
       "dtype: int64"
      ]
     },
     "execution_count": 3,
     "metadata": {},
     "output_type": "execute_result"
    }
   ],
   "source": [
    "data.isnull().sum()"
   ]
  },
  {
   "cell_type": "code",
   "execution_count": null,
   "metadata": {
    "cell_id": "00008-30eca726-9c34-469b-a519-5c072eadebf0",
    "deepnote_cell_height": 76,
    "deepnote_cell_type": "code",
    "deepnote_to_be_reexecuted": false,
    "execution_start": 1659103995365,
    "scrolled": true,
    "source_hash": "9522be0a"
   },
   "outputs": [],
   "source": [
    "# data.shape"
   ]
  },
  {
   "cell_type": "code",
   "execution_count": null,
   "metadata": {},
   "outputs": [],
   "source": [
    "# profile = ProfileReport(data, title=\"Pokemon Data Profiling Report\")\n",
    "# profile"
   ]
  },
  {
   "cell_type": "code",
   "execution_count": 4,
   "metadata": {
    "cell_id": "00019-1292d0e3-72fb-423c-ae83-b63f00887660",
    "deepnote_cell_height": 257.203125,
    "deepnote_cell_type": "code",
    "deepnote_to_be_reexecuted": false,
    "execution": {
     "iopub.execute_input": "2021-03-13T16:27:52.976139Z",
     "iopub.status.busy": "2021-03-13T16:27:52.975221Z",
     "iopub.status.idle": "2021-03-13T16:28:06.765174Z",
     "shell.execute_reply": "2021-03-13T16:28:06.764583Z"
    },
    "execution_millis": 1260,
    "execution_start": 1659103998156,
    "papermill": {
     "duration": 13.812836,
     "end_time": "2021-03-13T16:28:06.765326",
     "exception": false,
     "start_time": "2021-03-13T16:27:52.952490",
     "status": "completed"
    },
    "source_hash": "c78907ea",
    "tags": []
   },
   "outputs": [
    {
     "data": {
      "text/html": [
       "<div>\n",
       "<style scoped>\n",
       "    .dataframe tbody tr th:only-of-type {\n",
       "        vertical-align: middle;\n",
       "    }\n",
       "\n",
       "    .dataframe tbody tr th {\n",
       "        vertical-align: top;\n",
       "    }\n",
       "\n",
       "    .dataframe thead th {\n",
       "        text-align: right;\n",
       "    }\n",
       "</style>\n",
       "<table border=\"1\" class=\"dataframe\">\n",
       "  <thead>\n",
       "    <tr style=\"text-align: right;\">\n",
       "      <th></th>\n",
       "      <th>conversation_id</th>\n",
       "      <th>utterance_id</th>\n",
       "      <th>speaker</th>\n",
       "      <th>text</th>\n",
       "      <th>saliency</th>\n",
       "      <th>rich_text</th>\n",
       "    </tr>\n",
       "  </thead>\n",
       "  <tbody>\n",
       "    <tr>\n",
       "      <th>0</th>\n",
       "      <td>742555640001</td>\n",
       "      <td>0</td>\n",
       "      <td>agent</td>\n",
       "      <td>May I know your name, please?</td>\n",
       "      <td>NaN</td>\n",
       "      <td>May I know your name, please?</td>\n",
       "    </tr>\n",
       "    <tr>\n",
       "      <th>1</th>\n",
       "      <td>742555640001</td>\n",
       "      <td>1</td>\n",
       "      <td>customer</td>\n",
       "      <td>Uh yes, my name is {full_name:***** ****}.</td>\n",
       "      <td>NaN</td>\n",
       "      <td>Uh yes, my name is {full_name:***** ****}.</td>\n",
       "    </tr>\n",
       "    <tr>\n",
       "      <th>2</th>\n",
       "      <td>742555640001</td>\n",
       "      <td>2</td>\n",
       "      <td>agent</td>\n",
       "      <td>, {first_name:*****}. How's your day going, {f...</td>\n",
       "      <td>NaN</td>\n",
       "      <td>, {first_name:*****}. How's your day going, {f...</td>\n",
       "    </tr>\n",
       "    <tr>\n",
       "      <th>3</th>\n",
       "      <td>742555640001</td>\n",
       "      <td>3</td>\n",
       "      <td>customer</td>\n",
       "      <td>It's going good. Thank you for asking.</td>\n",
       "      <td>NaN</td>\n",
       "      <td>It's going good. Thank you for asking.</td>\n",
       "    </tr>\n",
       "    <tr>\n",
       "      <th>4</th>\n",
       "      <td>742555640001</td>\n",
       "      <td>4</td>\n",
       "      <td>agent</td>\n",
       "      <td>That's great. So how can I help you?</td>\n",
       "      <td>NaN</td>\n",
       "      <td>That's great. So how can I help you?</td>\n",
       "    </tr>\n",
       "    <tr>\n",
       "      <th>...</th>\n",
       "      <td>...</td>\n",
       "      <td>...</td>\n",
       "      <td>...</td>\n",
       "      <td>...</td>\n",
       "      <td>...</td>\n",
       "      <td>...</td>\n",
       "    </tr>\n",
       "    <tr>\n",
       "      <th>774</th>\n",
       "      <td>742579770001</td>\n",
       "      <td>128</td>\n",
       "      <td>customer</td>\n",
       "      <td>I.</td>\n",
       "      <td>NaN</td>\n",
       "      <td>I.</td>\n",
       "    </tr>\n",
       "    <tr>\n",
       "      <th>775</th>\n",
       "      <td>742579770001</td>\n",
       "      <td>129</td>\n",
       "      <td>agent</td>\n",
       "      <td>mhm.</td>\n",
       "      <td>NaN</td>\n",
       "      <td>mhm.</td>\n",
       "    </tr>\n",
       "    <tr>\n",
       "      <th>776</th>\n",
       "      <td>742579770001</td>\n",
       "      <td>130</td>\n",
       "      <td>agent</td>\n",
       "      <td>A.</td>\n",
       "      <td>NaN</td>\n",
       "      <td>A.</td>\n",
       "    </tr>\n",
       "    <tr>\n",
       "      <th>777</th>\n",
       "      <td>742579770001</td>\n",
       "      <td>131</td>\n",
       "      <td>customer</td>\n",
       "      <td>Ma'am?</td>\n",
       "      <td>NaN</td>\n",
       "      <td>Ma'am?</td>\n",
       "    </tr>\n",
       "    <tr>\n",
       "      <th>778</th>\n",
       "      <td>742579770001</td>\n",
       "      <td>132</td>\n",
       "      <td>bot</td>\n",
       "      <td>issue auto wrapped up.</td>\n",
       "      <td>NaN</td>\n",
       "      <td>issue auto wrapped up.</td>\n",
       "    </tr>\n",
       "  </tbody>\n",
       "</table>\n",
       "<p>779 rows × 6 columns</p>\n",
       "</div>"
      ],
      "text/plain": [
       "     conversation_id  utterance_id   speaker  \\\n",
       "0       742555640001             0     agent   \n",
       "1       742555640001             1  customer   \n",
       "2       742555640001             2     agent   \n",
       "3       742555640001             3  customer   \n",
       "4       742555640001             4     agent   \n",
       "..               ...           ...       ...   \n",
       "774     742579770001           128  customer   \n",
       "775     742579770001           129     agent   \n",
       "776     742579770001           130     agent   \n",
       "777     742579770001           131  customer   \n",
       "778     742579770001           132       bot   \n",
       "\n",
       "                                                  text saliency  \\\n",
       "0                        May I know your name, please?      NaN   \n",
       "1           Uh yes, my name is {full_name:***** ****}.      NaN   \n",
       "2    , {first_name:*****}. How's your day going, {f...      NaN   \n",
       "3               It's going good. Thank you for asking.      NaN   \n",
       "4                 That's great. So how can I help you?      NaN   \n",
       "..                                                 ...      ...   \n",
       "774                                                 I.      NaN   \n",
       "775                                               mhm.      NaN   \n",
       "776                                                 A.      NaN   \n",
       "777                                             Ma'am?      NaN   \n",
       "778                             issue auto wrapped up.      NaN   \n",
       "\n",
       "                                             rich_text  \n",
       "0                        May I know your name, please?  \n",
       "1           Uh yes, my name is {full_name:***** ****}.  \n",
       "2    , {first_name:*****}. How's your day going, {f...  \n",
       "3               It's going good. Thank you for asking.  \n",
       "4                 That's great. So how can I help you?  \n",
       "..                                                 ...  \n",
       "774                                                 I.  \n",
       "775                                               mhm.  \n",
       "776                                                 A.  \n",
       "777                                             Ma'am?  \n",
       "778                             issue auto wrapped up.  \n",
       "\n",
       "[779 rows x 6 columns]"
      ]
     },
     "execution_count": 4,
     "metadata": {},
     "output_type": "execute_result"
    }
   ],
   "source": [
    "def strip_html(text):\n",
    "    soup = BeautifulSoup(text, \"html.parser\")\n",
    "    return soup.get_text()\n",
    "data['rich_text'] = data['text'].apply(strip_html)\n",
    "\n",
    "# data=data.drop('Text',axis=1)\n",
    "data"
   ]
  },
  {
   "cell_type": "code",
   "execution_count": 5,
   "metadata": {},
   "outputs": [],
   "source": [
    "# data['saliency'] = data['saliency'].apply(lambda x: 0 if x != NaN else 1)\n",
    "data['saliency'] = np.where(data['saliency'].str.isnumeric(), 0, 1)"
   ]
  },
  {
   "cell_type": "code",
   "execution_count": 6,
   "metadata": {},
   "outputs": [
    {
     "data": {
      "text/plain": [
       "count    779.000000\n",
       "mean       0.548139\n",
       "std        0.497997\n",
       "min        0.000000\n",
       "25%        0.000000\n",
       "50%        1.000000\n",
       "75%        1.000000\n",
       "max        1.000000\n",
       "Name: saliency, dtype: float64"
      ]
     },
     "execution_count": 6,
     "metadata": {},
     "output_type": "execute_result"
    }
   ],
   "source": [
    "data['saliency'].describe()"
   ]
  },
  {
   "cell_type": "code",
   "execution_count": 7,
   "metadata": {},
   "outputs": [
    {
     "name": "stdout",
     "output_type": "stream",
     "text": [
      "427 352\n"
     ]
    }
   ],
   "source": [
    "cnt1, cnt2 = 0, 0\n",
    "for i in data['saliency']:\n",
    "    if i == 1:\n",
    "        cnt1 += 1\n",
    "    else:\n",
    "        cnt2 += 1\n",
    "print(cnt1, cnt2)"
   ]
  },
  {
   "cell_type": "code",
   "execution_count": 19,
   "metadata": {},
   "outputs": [],
   "source": [
    "data.to_csv('train-cleaned.csv')"
   ]
  },
  {
   "cell_type": "markdown",
   "metadata": {
    "cell_id": "00020-004e55c0-2eb0-41e9-b7f2-84f9c24ca9bf",
    "deepnote_cell_height": 82,
    "deepnote_cell_type": "markdown"
   },
   "source": [
    "# MODEL BUILDING"
   ]
  },
  {
   "cell_type": "code",
   "execution_count": 2,
   "metadata": {},
   "outputs": [],
   "source": [
    "import numpy as np # For linear algebra\n",
    "import pandas as pd # Data processing, CSV file I/O (e.g. pd.read_csv)\n",
    "import matplotlib.pyplot as plt  # For Visualisation\n",
    "%matplotlib inline\n",
    "import seaborn as sns  # For Visualisation\n",
    "from bs4 import BeautifulSoup  # For Text Parsing\n",
    "from ydata_profiling import ProfileReport  # For generating data report"
   ]
  },
  {
   "cell_type": "code",
   "execution_count": 3,
   "metadata": {},
   "outputs": [
    {
     "data": {
      "text/html": [
       "<div>\n",
       "<style scoped>\n",
       "    .dataframe tbody tr th:only-of-type {\n",
       "        vertical-align: middle;\n",
       "    }\n",
       "\n",
       "    .dataframe tbody tr th {\n",
       "        vertical-align: top;\n",
       "    }\n",
       "\n",
       "    .dataframe thead th {\n",
       "        text-align: right;\n",
       "    }\n",
       "</style>\n",
       "<table border=\"1\" class=\"dataframe\">\n",
       "  <thead>\n",
       "    <tr style=\"text-align: right;\">\n",
       "      <th></th>\n",
       "      <th>Unnamed: 0.1</th>\n",
       "      <th>Unnamed: 0</th>\n",
       "      <th>conversation_id</th>\n",
       "      <th>utterance_id</th>\n",
       "      <th>speaker</th>\n",
       "      <th>text</th>\n",
       "      <th>saliency</th>\n",
       "      <th>rich_text</th>\n",
       "      <th>Extracted text</th>\n",
       "    </tr>\n",
       "  </thead>\n",
       "  <tbody>\n",
       "    <tr>\n",
       "      <th>0</th>\n",
       "      <td>0</td>\n",
       "      <td>0</td>\n",
       "      <td>742555640001</td>\n",
       "      <td>0</td>\n",
       "      <td>agent</td>\n",
       "      <td>May I know your name, please?</td>\n",
       "      <td>0</td>\n",
       "      <td>May I know name , please ?</td>\n",
       "      <td>May I know your name please</td>\n",
       "    </tr>\n",
       "    <tr>\n",
       "      <th>1</th>\n",
       "      <td>1</td>\n",
       "      <td>1</td>\n",
       "      <td>742555640001</td>\n",
       "      <td>1</td>\n",
       "      <td>customer</td>\n",
       "      <td>Uh yes, my name is {full_name:***** ****}.</td>\n",
       "      <td>0</td>\n",
       "      <td>Uh yes , name { full_name : * * * * * * * * * } .</td>\n",
       "      <td>Uh yes my name is fullname</td>\n",
       "    </tr>\n",
       "    <tr>\n",
       "      <th>2</th>\n",
       "      <td>2</td>\n",
       "      <td>2</td>\n",
       "      <td>742555640001</td>\n",
       "      <td>2</td>\n",
       "      <td>agent</td>\n",
       "      <td>, {first_name:*****}. How's your day going, {f...</td>\n",
       "      <td>0</td>\n",
       "      <td>, { first_name : * * * * * } . How 's day goin...</td>\n",
       "      <td>firstname Hows your day going firstname</td>\n",
       "    </tr>\n",
       "    <tr>\n",
       "      <th>3</th>\n",
       "      <td>3</td>\n",
       "      <td>3</td>\n",
       "      <td>742555640001</td>\n",
       "      <td>3</td>\n",
       "      <td>customer</td>\n",
       "      <td>It's going good. Thank you for asking.</td>\n",
       "      <td>0</td>\n",
       "      <td>It 's going good . Thank asking .</td>\n",
       "      <td>Its going good Thank you for asking</td>\n",
       "    </tr>\n",
       "    <tr>\n",
       "      <th>4</th>\n",
       "      <td>4</td>\n",
       "      <td>4</td>\n",
       "      <td>742555640001</td>\n",
       "      <td>4</td>\n",
       "      <td>agent</td>\n",
       "      <td>That's great. So how can I help you?</td>\n",
       "      <td>0</td>\n",
       "      <td>That 's great . So I help ?</td>\n",
       "      <td>Thats great So how can I help you</td>\n",
       "    </tr>\n",
       "    <tr>\n",
       "      <th>...</th>\n",
       "      <td>...</td>\n",
       "      <td>...</td>\n",
       "      <td>...</td>\n",
       "      <td>...</td>\n",
       "      <td>...</td>\n",
       "      <td>...</td>\n",
       "      <td>...</td>\n",
       "      <td>...</td>\n",
       "      <td>...</td>\n",
       "    </tr>\n",
       "    <tr>\n",
       "      <th>774</th>\n",
       "      <td>774</td>\n",
       "      <td>774</td>\n",
       "      <td>742579770001</td>\n",
       "      <td>128</td>\n",
       "      <td>customer</td>\n",
       "      <td>I.</td>\n",
       "      <td>0</td>\n",
       "      <td>I .</td>\n",
       "      <td>I</td>\n",
       "    </tr>\n",
       "    <tr>\n",
       "      <th>775</th>\n",
       "      <td>775</td>\n",
       "      <td>775</td>\n",
       "      <td>742579770001</td>\n",
       "      <td>129</td>\n",
       "      <td>agent</td>\n",
       "      <td>mhm.</td>\n",
       "      <td>0</td>\n",
       "      <td>mhm .</td>\n",
       "      <td>mhm</td>\n",
       "    </tr>\n",
       "    <tr>\n",
       "      <th>776</th>\n",
       "      <td>776</td>\n",
       "      <td>776</td>\n",
       "      <td>742579770001</td>\n",
       "      <td>130</td>\n",
       "      <td>agent</td>\n",
       "      <td>A.</td>\n",
       "      <td>0</td>\n",
       "      <td>A .</td>\n",
       "      <td>A</td>\n",
       "    </tr>\n",
       "    <tr>\n",
       "      <th>777</th>\n",
       "      <td>777</td>\n",
       "      <td>777</td>\n",
       "      <td>742579770001</td>\n",
       "      <td>131</td>\n",
       "      <td>customer</td>\n",
       "      <td>Ma'am?</td>\n",
       "      <td>0</td>\n",
       "      <td>Ma'am ?</td>\n",
       "      <td>Maam</td>\n",
       "    </tr>\n",
       "    <tr>\n",
       "      <th>778</th>\n",
       "      <td>778</td>\n",
       "      <td>778</td>\n",
       "      <td>742579770001</td>\n",
       "      <td>132</td>\n",
       "      <td>bot</td>\n",
       "      <td>issue auto wrapped up.</td>\n",
       "      <td>0</td>\n",
       "      <td>issue auto wrapped .</td>\n",
       "      <td>issue auto wrapped up</td>\n",
       "    </tr>\n",
       "  </tbody>\n",
       "</table>\n",
       "<p>779 rows × 9 columns</p>\n",
       "</div>"
      ],
      "text/plain": [
       "     Unnamed: 0.1  Unnamed: 0  conversation_id  utterance_id   speaker  \\\n",
       "0               0           0     742555640001             0     agent   \n",
       "1               1           1     742555640001             1  customer   \n",
       "2               2           2     742555640001             2     agent   \n",
       "3               3           3     742555640001             3  customer   \n",
       "4               4           4     742555640001             4     agent   \n",
       "..            ...         ...              ...           ...       ...   \n",
       "774           774         774     742579770001           128  customer   \n",
       "775           775         775     742579770001           129     agent   \n",
       "776           776         776     742579770001           130     agent   \n",
       "777           777         777     742579770001           131  customer   \n",
       "778           778         778     742579770001           132       bot   \n",
       "\n",
       "                                                  text  saliency  \\\n",
       "0                        May I know your name, please?         0   \n",
       "1           Uh yes, my name is {full_name:***** ****}.         0   \n",
       "2    , {first_name:*****}. How's your day going, {f...         0   \n",
       "3               It's going good. Thank you for asking.         0   \n",
       "4                 That's great. So how can I help you?         0   \n",
       "..                                                 ...       ...   \n",
       "774                                                 I.         0   \n",
       "775                                               mhm.         0   \n",
       "776                                                 A.         0   \n",
       "777                                             Ma'am?         0   \n",
       "778                             issue auto wrapped up.         0   \n",
       "\n",
       "                                             rich_text  \\\n",
       "0                           May I know name , please ?   \n",
       "1    Uh yes , name { full_name : * * * * * * * * * } .   \n",
       "2    , { first_name : * * * * * } . How 's day goin...   \n",
       "3                    It 's going good . Thank asking .   \n",
       "4                          That 's great . So I help ?   \n",
       "..                                                 ...   \n",
       "774                                                I .   \n",
       "775                                              mhm .   \n",
       "776                                                A .   \n",
       "777                                            Ma'am ?   \n",
       "778                               issue auto wrapped .   \n",
       "\n",
       "                               Extracted text  \n",
       "0                 May I know your name please  \n",
       "1                 Uh yes my name is fullname   \n",
       "2     firstname Hows your day going firstname  \n",
       "3         Its going good Thank you for asking  \n",
       "4           Thats great So how can I help you  \n",
       "..                                        ...  \n",
       "774                                         I  \n",
       "775                                       mhm  \n",
       "776                                         A  \n",
       "777                                      Maam  \n",
       "778                     issue auto wrapped up  \n",
       "\n",
       "[779 rows x 9 columns]"
      ]
     },
     "execution_count": 3,
     "metadata": {},
     "output_type": "execute_result"
    }
   ],
   "source": [
    "data = pd.read_csv('train-cleaned.csv')\n",
    "data"
   ]
  },
  {
   "cell_type": "code",
   "execution_count": 4,
   "metadata": {
    "cell_id": "00021-8285f233-a829-43a8-a5fa-873d63a8f0ca",
    "deepnote_cell_height": 184,
    "deepnote_cell_type": "code",
    "deepnote_to_be_reexecuted": false,
    "execution": {
     "iopub.execute_input": "2021-03-13T16:28:06.822582Z",
     "iopub.status.busy": "2021-03-13T16:28:06.821370Z",
     "iopub.status.idle": "2021-03-13T16:28:08.280602Z",
     "shell.execute_reply": "2021-03-13T16:28:08.279914Z"
    },
    "execution_millis": 1560,
    "execution_start": 1659103999423,
    "papermill": {
     "duration": 1.490321,
     "end_time": "2021-03-13T16:28:08.280749",
     "exception": false,
     "start_time": "2021-03-13T16:28:06.790428",
     "status": "completed"
    },
    "source_hash": "d15a1133",
    "tags": []
   },
   "outputs": [],
   "source": [
    "import nltk  #Natural Language Processing Toolkit\n",
    "def punc_clean(text):\n",
    "    import string as st\n",
    "    a=[w for w in text if w not in st.punctuation]\n",
    "    return ''.join(a)\n",
    "data[''] = data['Extracted text'].apply(punc_clean)\n",
    "#data.head(2)"
   ]
  },
  {
   "cell_type": "code",
   "execution_count": 5,
   "metadata": {
    "cell_id": "00022-a4cfd80d-eba1-4639-b284-da7436a9fff6",
    "deepnote_cell_height": 166,
    "deepnote_cell_type": "code",
    "deepnote_to_be_reexecuted": false,
    "execution": {
     "iopub.execute_input": "2021-03-13T16:28:08.340787Z",
     "iopub.status.busy": "2021-03-13T16:28:08.340120Z",
     "iopub.status.idle": "2021-03-13T16:28:18.825059Z",
     "shell.execute_reply": "2021-03-13T16:28:18.824303Z"
    },
    "execution_millis": 9,
    "execution_start": 1659104000988,
    "papermill": {
     "duration": 10.518179,
     "end_time": "2021-03-13T16:28:18.825205",
     "exception": false,
     "start_time": "2021-03-13T16:28:08.307026",
     "status": "completed"
    },
    "source_hash": "33b5447c",
    "tags": []
   },
   "outputs": [],
   "source": [
    "def remove_stopword(text):\n",
    "    stopword=nltk.corpus.stopwords.words('english')\n",
    "    stopword.remove('not')\n",
    "    a=[w for w in nltk.word_tokenize(text) if w not in stopword]\n",
    "    return ' '.join(a)\n",
    "data['Extracted text'] = data['Extracted text'].apply(remove_stopword)"
   ]
  },
  {
   "cell_type": "code",
   "execution_count": 6,
   "metadata": {
    "cell_id": "00023-a45fecc1-f14b-4184-af87-5c2dfd381441",
    "deepnote_cell_height": 166,
    "deepnote_cell_type": "code",
    "deepnote_to_be_reexecuted": false,
    "execution": {
     "iopub.execute_input": "2021-03-13T16:28:18.921507Z",
     "iopub.status.busy": "2021-03-13T16:28:18.916495Z",
     "iopub.status.idle": "2021-03-13T16:28:21.553576Z",
     "shell.execute_reply": "2021-03-13T16:28:21.553032Z"
    },
    "execution_millis": 4515,
    "execution_start": 1659104001015,
    "papermill": {
     "duration": 2.703145,
     "end_time": "2021-03-13T16:28:21.553726",
     "exception": false,
     "start_time": "2021-03-13T16:28:18.850581",
     "status": "completed"
    },
    "source_hash": "c820e3db",
    "tags": []
   },
   "outputs": [],
   "source": [
    "from sklearn.feature_extraction.text import TfidfVectorizer\n",
    "\n",
    "vectr = TfidfVectorizer(ngram_range=(1,2),min_df=1)\n",
    "vectr.fit(data['Extracted text'])\n",
    "\n",
    "vect_X = vectr.transform(data['Extracted text'])"
   ]
  },
  {
   "cell_type": "code",
   "execution_count": 7,
   "metadata": {
    "cell_id": "00024-7b28b80c-8ebb-4896-92cb-45b454b0ee7f",
    "deepnote_cell_height": 166,
    "deepnote_cell_type": "code",
    "deepnote_to_be_reexecuted": false,
    "execution": {
     "iopub.execute_input": "2021-03-13T16:28:21.612076Z",
     "iopub.status.busy": "2021-03-13T16:28:21.611368Z",
     "iopub.status.idle": "2021-03-13T16:28:22.028403Z",
     "shell.execute_reply": "2021-03-13T16:28:22.029297Z"
    },
    "execution_millis": 3780,
    "execution_start": 1659104005536,
    "papermill": {
     "duration": 0.44834,
     "end_time": "2021-03-13T16:28:22.029590",
     "exception": false,
     "start_time": "2021-03-13T16:28:21.581250",
     "status": "completed"
    },
    "scrolled": true,
    "source_hash": "a7924ecc",
    "tags": []
   },
   "outputs": [],
   "source": [
    "from sklearn.linear_model import LogisticRegression\n",
    "\n",
    "model = LogisticRegression()\n",
    "\n",
    "clf=model.fit(vect_X,data['saliency'])\n",
    "# clf.score(vect_X, data['saliency'])*100"
   ]
  },
  {
   "cell_type": "markdown",
   "metadata": {
    "cell_id": "00025-cf07c26c-c0c3-45fd-aca7-d4b00cb43de2",
    "deepnote_cell_height": 82,
    "deepnote_cell_type": "markdown"
   },
   "source": [
    "# PREDICTION"
   ]
  },
  {
   "cell_type": "code",
   "execution_count": 8,
   "metadata": {
    "cell_id": "00026-5932dffd-b816-4c6a-9533-c230477462f2",
    "deepnote_cell_height": 172.171875,
    "deepnote_cell_type": "code",
    "deepnote_output_heights": [
     21.1875
    ],
    "deepnote_to_be_reexecuted": false,
    "execution": {
     "iopub.execute_input": "2021-03-13T16:28:22.140180Z",
     "iopub.status.busy": "2021-03-13T16:28:22.139557Z",
     "iopub.status.idle": "2021-03-13T16:28:22.142422Z",
     "shell.execute_reply": "2021-03-13T16:28:22.142902Z"
    },
    "execution_millis": 32,
    "execution_start": 1659104009323,
    "papermill": {
     "duration": 0.062393,
     "end_time": "2021-03-13T16:28:22.143073",
     "exception": false,
     "start_time": "2021-03-13T16:28:22.080680",
     "status": "completed"
    },
    "source_hash": "77a37951",
    "tags": []
   },
   "outputs": [
    {
     "data": {
      "text/plain": [
       "array([1])"
      ]
     },
     "execution_count": 8,
     "metadata": {},
     "output_type": "execute_result"
    }
   ],
   "source": [
    "clf.predict(vectr.transform(['''UThat has to be canceled by the 23rd. It had a reminder on my my television uh so I wanted to make sure. Yeah, I wanted to go ahead and cancel that today promo all the free promo channels are. However, you say that.''']))"
   ]
  },
  {
   "cell_type": "code",
   "execution_count": 12,
   "metadata": {
    "cell_id": "00027-13154074-96ac-47af-9326-0c13bad83461",
    "deepnote_cell_height": 118.171875,
    "deepnote_cell_type": "code",
    "deepnote_output_heights": [
     21.1875
    ],
    "deepnote_to_be_reexecuted": false,
    "execution": {
     "iopub.execute_input": "2021-03-13T16:28:22.201709Z",
     "iopub.status.busy": "2021-03-13T16:28:22.201077Z",
     "iopub.status.idle": "2021-03-13T16:28:22.207320Z",
     "shell.execute_reply": "2021-03-13T16:28:22.208108Z"
    },
    "execution_millis": 24,
    "execution_start": 1659104009361,
    "papermill": {
     "duration": 0.036995,
     "end_time": "2021-03-13T16:28:22.208319",
     "exception": false,
     "start_time": "2021-03-13T16:28:22.171324",
     "status": "completed"
    },
    "source_hash": "97f102da",
    "tags": []
   },
   "outputs": [
    {
     "data": {
      "text/plain": [
       "array([1])"
      ]
     },
     "execution_count": 12,
     "metadata": {},
     "output_type": "execute_result"
    }
   ],
   "source": [
    "clf.predict(vectr.transform(['''uhhh....''']))"
   ]
  },
  {
   "cell_type": "code",
   "execution_count": 15,
   "metadata": {
    "cell_id": "00028-e1a24443-f0ec-4ab3-b013-8b898483c09a",
    "deepnote_cell_height": 113.171875,
    "deepnote_cell_type": "code",
    "deepnote_output_heights": [
     21.1875
    ],
    "deepnote_to_be_reexecuted": false,
    "execution_millis": 10,
    "execution_start": 1659104009394,
    "source_hash": "59f7cd61"
   },
   "outputs": [
    {
     "data": {
      "text/plain": [
       "array([1])"
      ]
     },
     "execution_count": 15,
     "metadata": {},
     "output_type": "execute_result"
    }
   ],
   "source": [
    "clf.predict(vectr.transform(['''mhm . Let check happening .''']))"
   ]
  },
  {
   "cell_type": "code",
   "execution_count": null,
   "metadata": {
    "cell_id": "00029-c4c0d8b6-357b-44ad-bcb8-bbc12ba66815",
    "deepnote_cell_height": 76,
    "deepnote_cell_type": "code",
    "deepnote_to_be_reexecuted": false,
    "execution_start": 1659104009407,
    "source_hash": "b623e53d"
   },
   "outputs": [],
   "source": []
  },
  {
   "cell_type": "markdown",
   "metadata": {
    "created_in_deepnote_cell": true,
    "deepnote_cell_type": "markdown",
    "tags": []
   },
   "source": [
    "<a style='text-decoration:none;line-height:16px;display:flex;color:#5B5B62;padding:10px;justify-content:end;' href='https://deepnote.com?utm_source=created-in-deepnote-cell&projectId=4d282b10-3250-4323-8e4d-a3cd11fe8ba3' target=\"_blank\">\n",
    "<img alt='Created in deepnote.com' style='display:inline;max-height:16px;margin:0px;margin-right:7.5px;' src='data:image/svg+xml;base64,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' > </img>\n",
    "Created in <span style='font-weight:600;margin-left:4px;'>Deepnote</span></a>"
   ]
  }
 ],
 "metadata": {
  "deepnote": {},
  "deepnote_execution_queue": [],
  "deepnote_notebook_id": "be60bd45-01a5-426e-91a1-24c892390952",
  "interpreter": {
   "hash": "130553f4f0d3e23349af9165d910d4262409c6846676bdcb430be96ef900c543"
  },
  "kernelspec": {
   "display_name": "Python 3.8.5 64-bit ('base': conda)",
   "name": "python3"
  },
  "language_info": {
   "codemirror_mode": {
    "name": "ipython",
    "version": 3
   },
   "file_extension": ".py",
   "mimetype": "text/x-python",
   "name": "python",
   "nbconvert_exporter": "python",
   "pygments_lexer": "ipython3",
   "version": "3.9.13"
  },
  "papermill": {
   "default_parameters": {},
   "duration": 50.126058,
   "end_time": "2021-03-13T16:28:23.248091",
   "environment_variables": {},
   "exception": null,
   "input_path": "__notebook__.ipynb",
   "output_path": "__notebook__.ipynb",
   "parameters": {},
   "start_time": "2021-03-13T16:27:33.122033",
   "version": "2.2.2"
  }
 },
 "nbformat": 4,
 "nbformat_minor": 4
}
